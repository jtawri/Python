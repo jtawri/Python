{
 "cells": [
  {
   "cell_type": "code",
   "execution_count": 2,
   "metadata": {},
   "outputs": [
    {
     "name": "stdout",
     "output_type": "stream",
     "text": [
      "Take a Number in your mind45\n",
      "Guess a number65\n",
      "Guess is Cold\n",
      "Guess a number85\n",
      "Guess is Colder\n",
      "Guess a number35\n",
      "Guess is Warmer\n",
      "Guess a number25\n",
      "Guess is Colder\n",
      "Guess a number40\n",
      "Guess is Warmer\n",
      "Guess a number42\n",
      "Guess is Warmer\n",
      "Guess a number48\n",
      "Guess a number49\n",
      "Guess is Colder\n",
      "Guess a number47\n",
      "Guess is Warmer\n",
      "Guess a number46\n",
      "Guess is Warmer\n",
      "Guess a number45\n",
      "You have Guessed correctly at  11 th count\n"
     ]
    }
   ],
   "source": [
    "# game challenge\n",
    "\n",
    "num=int(input(\"Take a Number in your mind\"))\n",
    "count=0\n",
    "guess_prev=1\n",
    "while (1<2):\n",
    "    \n",
    "    guess_latest=int(input(\"Guess a number\"))\n",
    "    \n",
    "    count= count+1\n",
    "    if guess_latest==num:\n",
    "        print(\"You have Guessed correctly at \",count,\"th count\" )\n",
    "        break\n",
    "    elif guess_latest<1 or guess_latest>100 :\n",
    "        print(\"Number is out of bounds\")\n",
    "    elif abs(guess_latest-num)< 10 and count==1:\n",
    "        print (\"Guess is Warm\")\n",
    "    elif abs(guess_latest-num)>10 and count==1:\n",
    "        print (\"Guess is Cold\")\n",
    "    elif abs(guess_latest-num)< abs(guess_prev-num) and count>1:\n",
    "        print (\"Guess is Warmer\")\n",
    "    elif abs(guess_latest-num)> abs(guess_prev-num) and count>1:\n",
    "        print (\"Guess is Colder\")\n",
    "    guess_prev=guess_latest\n",
    "    "
   ]
  },
  {
   "cell_type": "code",
   "execution_count": null,
   "metadata": {},
   "outputs": [],
   "source": []
  }
 ],
 "metadata": {
  "kernelspec": {
   "display_name": "Python 3",
   "language": "python",
   "name": "python3"
  },
  "language_info": {
   "codemirror_mode": {
    "name": "ipython",
    "version": 3
   },
   "file_extension": ".py",
   "mimetype": "text/x-python",
   "name": "python",
   "nbconvert_exporter": "python",
   "pygments_lexer": "ipython3",
   "version": "3.7.3"
  }
 },
 "nbformat": 4,
 "nbformat_minor": 2
}
