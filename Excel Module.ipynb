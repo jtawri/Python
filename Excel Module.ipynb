{
 "cells": [
  {
   "cell_type": "code",
   "execution_count": 74,
   "metadata": {},
   "outputs": [],
   "source": [
    "import pandas as pd\n",
    "import numpy as np\n",
    "import openpyxl\n",
    "df = pd.read_csv('investments.csv', sep=',')"
   ]
  },
  {
   "cell_type": "code",
   "execution_count": 75,
   "metadata": {},
   "outputs": [
    {
     "data": {
      "text/plain": [
       "Index(['company_permalink', 'company_name', 'company_category_list',\n",
       "       'company_market', 'company_country_code', 'company_state_code',\n",
       "       'company_region', 'company_city', 'investor_permalink', 'investor_name',\n",
       "       'investor_category_list', 'investor_market', 'investor_country_code',\n",
       "       'investor_state_code', 'investor_region', 'investor_city',\n",
       "       'funding_round_permalink', 'funding_round_type', 'funding_round_code',\n",
       "       'funded_at', 'funded_month', 'funded_quarter', 'funded_year',\n",
       "       'raised_amount_usd'],\n",
       "      dtype='object')"
      ]
     },
     "execution_count": 75,
     "metadata": {},
     "output_type": "execute_result"
    }
   ],
   "source": [
    "df.columns"
   ]
  },
  {
   "cell_type": "code",
   "execution_count": 76,
   "metadata": {},
   "outputs": [],
   "source": [
    "df1 = df[['funded_year', 'funded_quarter', 'funding_round_type', 'raised_amount_usd']]\n",
    "df1 = df1[df.funded_year >= 2007]\n",
    "df1 = df1[df1.funding_round_type.isin(['angel', 'private_equity', 'seed', 'venture', 'undisclosed'])]"
   ]
  },
  {
   "cell_type": "code",
   "execution_count": 77,
   "metadata": {},
   "outputs": [
    {
     "data": {
      "text/html": [
       "<div>\n",
       "<style scoped>\n",
       "    .dataframe tbody tr th:only-of-type {\n",
       "        vertical-align: middle;\n",
       "    }\n",
       "\n",
       "    .dataframe tbody tr th {\n",
       "        vertical-align: top;\n",
       "    }\n",
       "\n",
       "    .dataframe thead th {\n",
       "        text-align: right;\n",
       "    }\n",
       "</style>\n",
       "<table border=\"1\" class=\"dataframe\">\n",
       "  <thead>\n",
       "    <tr style=\"text-align: right;\">\n",
       "      <th></th>\n",
       "      <th>funded_year</th>\n",
       "      <th>funded_quarter</th>\n",
       "      <th>funding_round_type</th>\n",
       "      <th>raised_amount_usd</th>\n",
       "    </tr>\n",
       "  </thead>\n",
       "  <tbody>\n",
       "    <tr>\n",
       "      <td>0</td>\n",
       "      <td>2014.0</td>\n",
       "      <td>2014-Q3</td>\n",
       "      <td>venture</td>\n",
       "      <td>5956174</td>\n",
       "    </tr>\n",
       "    <tr>\n",
       "      <td>1</td>\n",
       "      <td>2014.0</td>\n",
       "      <td>2014-Q3</td>\n",
       "      <td>private_equity</td>\n",
       "      <td>81216295</td>\n",
       "    </tr>\n",
       "    <tr>\n",
       "      <td>2</td>\n",
       "      <td>2014.0</td>\n",
       "      <td>2014-Q3</td>\n",
       "      <td>seed</td>\n",
       "      <td>1300000</td>\n",
       "    </tr>\n",
       "    <tr>\n",
       "      <td>3</td>\n",
       "      <td>2014.0</td>\n",
       "      <td>2014-Q3</td>\n",
       "      <td>seed</td>\n",
       "      <td>NaN</td>\n",
       "    </tr>\n",
       "    <tr>\n",
       "      <td>4</td>\n",
       "      <td>2014.0</td>\n",
       "      <td>2014-Q2</td>\n",
       "      <td>seed</td>\n",
       "      <td>500000</td>\n",
       "    </tr>\n",
       "    <tr>\n",
       "      <td>...</td>\n",
       "      <td>...</td>\n",
       "      <td>...</td>\n",
       "      <td>...</td>\n",
       "      <td>...</td>\n",
       "    </tr>\n",
       "    <tr>\n",
       "      <td>110038</td>\n",
       "      <td>2012.0</td>\n",
       "      <td>2012-Q4</td>\n",
       "      <td>seed</td>\n",
       "      <td>3000000</td>\n",
       "    </tr>\n",
       "    <tr>\n",
       "      <td>110039</td>\n",
       "      <td>2014.0</td>\n",
       "      <td>2014-Q1</td>\n",
       "      <td>seed</td>\n",
       "      <td>20000</td>\n",
       "    </tr>\n",
       "    <tr>\n",
       "      <td>110040</td>\n",
       "      <td>2009.0</td>\n",
       "      <td>2009-Q3</td>\n",
       "      <td>angel</td>\n",
       "      <td>400000</td>\n",
       "    </tr>\n",
       "    <tr>\n",
       "      <td>110041</td>\n",
       "      <td>2013.0</td>\n",
       "      <td>2013-Q3</td>\n",
       "      <td>seed</td>\n",
       "      <td>2300000</td>\n",
       "    </tr>\n",
       "    <tr>\n",
       "      <td>110042</td>\n",
       "      <td>2012.0</td>\n",
       "      <td>2012-Q2</td>\n",
       "      <td>seed</td>\n",
       "      <td>33000</td>\n",
       "    </tr>\n",
       "  </tbody>\n",
       "</table>\n",
       "<p>94534 rows × 4 columns</p>\n",
       "</div>"
      ],
      "text/plain": [
       "        funded_year funded_quarter funding_round_type raised_amount_usd\n",
       "0            2014.0        2014-Q3            venture           5956174\n",
       "1            2014.0        2014-Q3     private_equity          81216295\n",
       "2            2014.0        2014-Q3               seed           1300000\n",
       "3            2014.0        2014-Q3               seed               NaN\n",
       "4            2014.0        2014-Q2               seed            500000\n",
       "...             ...            ...                ...               ...\n",
       "110038       2012.0        2012-Q4               seed           3000000\n",
       "110039       2014.0        2014-Q1               seed             20000\n",
       "110040       2009.0        2009-Q3              angel            400000\n",
       "110041       2013.0        2013-Q3               seed           2300000\n",
       "110042       2012.0        2012-Q2               seed             33000\n",
       "\n",
       "[94534 rows x 4 columns]"
      ]
     },
     "execution_count": 77,
     "metadata": {},
     "output_type": "execute_result"
    }
   ],
   "source": [
    "df1"
   ]
  },
  {
   "cell_type": "code",
   "execution_count": 78,
   "metadata": {},
   "outputs": [
    {
     "data": {
      "text/html": [
       "<div>\n",
       "<style scoped>\n",
       "    .dataframe tbody tr th:only-of-type {\n",
       "        vertical-align: middle;\n",
       "    }\n",
       "\n",
       "    .dataframe tbody tr th {\n",
       "        vertical-align: top;\n",
       "    }\n",
       "\n",
       "    .dataframe thead th {\n",
       "        text-align: right;\n",
       "    }\n",
       "</style>\n",
       "<table border=\"1\" class=\"dataframe\">\n",
       "  <thead>\n",
       "    <tr style=\"text-align: right;\">\n",
       "      <th></th>\n",
       "      <th>funded_year</th>\n",
       "      <th>funded_quarter</th>\n",
       "      <th>funding_round_type</th>\n",
       "      <th>raised_amount_usd</th>\n",
       "    </tr>\n",
       "  </thead>\n",
       "  <tbody>\n",
       "    <tr>\n",
       "      <td>0</td>\n",
       "      <td>2014.0</td>\n",
       "      <td>2014-Q3</td>\n",
       "      <td>venture</td>\n",
       "      <td>5956174</td>\n",
       "    </tr>\n",
       "    <tr>\n",
       "      <td>1</td>\n",
       "      <td>2014.0</td>\n",
       "      <td>2014-Q3</td>\n",
       "      <td>private_equity</td>\n",
       "      <td>81216295</td>\n",
       "    </tr>\n",
       "    <tr>\n",
       "      <td>2</td>\n",
       "      <td>2014.0</td>\n",
       "      <td>2014-Q3</td>\n",
       "      <td>seed</td>\n",
       "      <td>1300000</td>\n",
       "    </tr>\n",
       "    <tr>\n",
       "      <td>3</td>\n",
       "      <td>2014.0</td>\n",
       "      <td>2014-Q3</td>\n",
       "      <td>seed</td>\n",
       "      <td>NaN</td>\n",
       "    </tr>\n",
       "    <tr>\n",
       "      <td>4</td>\n",
       "      <td>2014.0</td>\n",
       "      <td>2014-Q2</td>\n",
       "      <td>seed</td>\n",
       "      <td>500000</td>\n",
       "    </tr>\n",
       "    <tr>\n",
       "      <td>...</td>\n",
       "      <td>...</td>\n",
       "      <td>...</td>\n",
       "      <td>...</td>\n",
       "      <td>...</td>\n",
       "    </tr>\n",
       "    <tr>\n",
       "      <td>110038</td>\n",
       "      <td>2012.0</td>\n",
       "      <td>2012-Q4</td>\n",
       "      <td>seed</td>\n",
       "      <td>3000000</td>\n",
       "    </tr>\n",
       "    <tr>\n",
       "      <td>110039</td>\n",
       "      <td>2014.0</td>\n",
       "      <td>2014-Q1</td>\n",
       "      <td>seed</td>\n",
       "      <td>20000</td>\n",
       "    </tr>\n",
       "    <tr>\n",
       "      <td>110040</td>\n",
       "      <td>2009.0</td>\n",
       "      <td>2009-Q3</td>\n",
       "      <td>angel</td>\n",
       "      <td>400000</td>\n",
       "    </tr>\n",
       "    <tr>\n",
       "      <td>110041</td>\n",
       "      <td>2013.0</td>\n",
       "      <td>2013-Q3</td>\n",
       "      <td>seed</td>\n",
       "      <td>2300000</td>\n",
       "    </tr>\n",
       "    <tr>\n",
       "      <td>110042</td>\n",
       "      <td>2012.0</td>\n",
       "      <td>2012-Q2</td>\n",
       "      <td>seed</td>\n",
       "      <td>33000</td>\n",
       "    </tr>\n",
       "  </tbody>\n",
       "</table>\n",
       "<p>94534 rows × 4 columns</p>\n",
       "</div>"
      ],
      "text/plain": [
       "        funded_year funded_quarter funding_round_type raised_amount_usd\n",
       "0            2014.0        2014-Q3            venture           5956174\n",
       "1            2014.0        2014-Q3     private_equity          81216295\n",
       "2            2014.0        2014-Q3               seed           1300000\n",
       "3            2014.0        2014-Q3               seed               NaN\n",
       "4            2014.0        2014-Q2               seed            500000\n",
       "...             ...            ...                ...               ...\n",
       "110038       2012.0        2012-Q4               seed           3000000\n",
       "110039       2014.0        2014-Q1               seed             20000\n",
       "110040       2009.0        2009-Q3              angel            400000\n",
       "110041       2013.0        2013-Q3               seed           2300000\n",
       "110042       2012.0        2012-Q2               seed             33000\n",
       "\n",
       "[94534 rows x 4 columns]"
      ]
     },
     "execution_count": 78,
     "metadata": {},
     "output_type": "execute_result"
    }
   ],
   "source": [
    "df1"
   ]
  },
  {
   "cell_type": "code",
   "execution_count": 79,
   "metadata": {},
   "outputs": [],
   "source": [
    "df1 = df1.fillna(0)"
   ]
  },
  {
   "cell_type": "code",
   "execution_count": 80,
   "metadata": {},
   "outputs": [
    {
     "data": {
      "text/plain": [
       "0          5956174\n",
       "1         81216295\n",
       "2          1300000\n",
       "3                0\n",
       "4           500000\n",
       "            ...   \n",
       "110038     3000000\n",
       "110039       20000\n",
       "110040      400000\n",
       "110041     2300000\n",
       "110042       33000\n",
       "Name: raised_amount_usd, Length: 94534, dtype: object"
      ]
     },
     "execution_count": 80,
     "metadata": {},
     "output_type": "execute_result"
    }
   ],
   "source": [
    "df1.raised_amount_usd "
   ]
  },
  {
   "cell_type": "code",
   "execution_count": 101,
   "metadata": {},
   "outputs": [],
   "source": [
    "table1 = pd.pivot_table(df1, index=['funding_round_type'],\n",
    "                columns=['funded_year', 'funded_quarter'],\n",
    "                values=['raised_amount_usd'],\n",
    "                aggfunc=[lambda x: len(x)],fill_value=0)"
   ]
  },
  {
   "cell_type": "code",
   "execution_count": 102,
   "metadata": {},
   "outputs": [
    {
     "data": {
      "text/html": [
       "<div>\n",
       "<style scoped>\n",
       "    .dataframe tbody tr th:only-of-type {\n",
       "        vertical-align: middle;\n",
       "    }\n",
       "\n",
       "    .dataframe tbody tr th {\n",
       "        vertical-align: top;\n",
       "    }\n",
       "\n",
       "    .dataframe thead tr th {\n",
       "        text-align: left;\n",
       "    }\n",
       "\n",
       "    .dataframe thead tr:last-of-type th {\n",
       "        text-align: right;\n",
       "    }\n",
       "</style>\n",
       "<table border=\"1\" class=\"dataframe\">\n",
       "  <thead>\n",
       "    <tr>\n",
       "      <th></th>\n",
       "      <th colspan=\"21\" halign=\"left\">&lt;lambda&gt;</th>\n",
       "    </tr>\n",
       "    <tr>\n",
       "      <th></th>\n",
       "      <th colspan=\"21\" halign=\"left\">raised_amount_usd</th>\n",
       "    </tr>\n",
       "    <tr>\n",
       "      <th>funded_year</th>\n",
       "      <th colspan=\"4\" halign=\"left\">2007.0</th>\n",
       "      <th colspan=\"4\" halign=\"left\">2008.0</th>\n",
       "      <th colspan=\"2\" halign=\"left\">2009.0</th>\n",
       "      <th>...</th>\n",
       "      <th colspan=\"2\" halign=\"left\">2012.0</th>\n",
       "      <th colspan=\"4\" halign=\"left\">2013.0</th>\n",
       "      <th colspan=\"4\" halign=\"left\">2014.0</th>\n",
       "    </tr>\n",
       "    <tr>\n",
       "      <th>funded_quarter</th>\n",
       "      <th>2007-Q1</th>\n",
       "      <th>2007-Q2</th>\n",
       "      <th>2007-Q3</th>\n",
       "      <th>2007-Q4</th>\n",
       "      <th>2008-Q1</th>\n",
       "      <th>2008-Q2</th>\n",
       "      <th>2008-Q3</th>\n",
       "      <th>2008-Q4</th>\n",
       "      <th>2009-Q1</th>\n",
       "      <th>2009-Q2</th>\n",
       "      <th>...</th>\n",
       "      <th>2012-Q3</th>\n",
       "      <th>2012-Q4</th>\n",
       "      <th>2013-Q1</th>\n",
       "      <th>2013-Q2</th>\n",
       "      <th>2013-Q3</th>\n",
       "      <th>2013-Q4</th>\n",
       "      <th>2014-Q1</th>\n",
       "      <th>2014-Q2</th>\n",
       "      <th>2014-Q3</th>\n",
       "      <th>2014-Q4</th>\n",
       "    </tr>\n",
       "    <tr>\n",
       "      <th>funding_round_type</th>\n",
       "      <th></th>\n",
       "      <th></th>\n",
       "      <th></th>\n",
       "      <th></th>\n",
       "      <th></th>\n",
       "      <th></th>\n",
       "      <th></th>\n",
       "      <th></th>\n",
       "      <th></th>\n",
       "      <th></th>\n",
       "      <th></th>\n",
       "      <th></th>\n",
       "      <th></th>\n",
       "      <th></th>\n",
       "      <th></th>\n",
       "      <th></th>\n",
       "      <th></th>\n",
       "      <th></th>\n",
       "      <th></th>\n",
       "      <th></th>\n",
       "      <th></th>\n",
       "    </tr>\n",
       "  </thead>\n",
       "  <tbody>\n",
       "    <tr>\n",
       "      <td>angel</td>\n",
       "      <td>97</td>\n",
       "      <td>67</td>\n",
       "      <td>50</td>\n",
       "      <td>71</td>\n",
       "      <td>122</td>\n",
       "      <td>69</td>\n",
       "      <td>74</td>\n",
       "      <td>79</td>\n",
       "      <td>64</td>\n",
       "      <td>84</td>\n",
       "      <td>...</td>\n",
       "      <td>201</td>\n",
       "      <td>162</td>\n",
       "      <td>229</td>\n",
       "      <td>161</td>\n",
       "      <td>226</td>\n",
       "      <td>141</td>\n",
       "      <td>211</td>\n",
       "      <td>123</td>\n",
       "      <td>77</td>\n",
       "      <td>0</td>\n",
       "    </tr>\n",
       "    <tr>\n",
       "      <td>private_equity</td>\n",
       "      <td>16</td>\n",
       "      <td>14</td>\n",
       "      <td>22</td>\n",
       "      <td>10</td>\n",
       "      <td>13</td>\n",
       "      <td>13</td>\n",
       "      <td>26</td>\n",
       "      <td>18</td>\n",
       "      <td>20</td>\n",
       "      <td>17</td>\n",
       "      <td>...</td>\n",
       "      <td>93</td>\n",
       "      <td>64</td>\n",
       "      <td>146</td>\n",
       "      <td>244</td>\n",
       "      <td>187</td>\n",
       "      <td>132</td>\n",
       "      <td>101</td>\n",
       "      <td>131</td>\n",
       "      <td>68</td>\n",
       "      <td>5</td>\n",
       "    </tr>\n",
       "    <tr>\n",
       "      <td>seed</td>\n",
       "      <td>110</td>\n",
       "      <td>88</td>\n",
       "      <td>92</td>\n",
       "      <td>111</td>\n",
       "      <td>219</td>\n",
       "      <td>143</td>\n",
       "      <td>145</td>\n",
       "      <td>107</td>\n",
       "      <td>254</td>\n",
       "      <td>225</td>\n",
       "      <td>...</td>\n",
       "      <td>1551</td>\n",
       "      <td>1610</td>\n",
       "      <td>2025</td>\n",
       "      <td>1870</td>\n",
       "      <td>2368</td>\n",
       "      <td>2097</td>\n",
       "      <td>1922</td>\n",
       "      <td>1686</td>\n",
       "      <td>1763</td>\n",
       "      <td>101</td>\n",
       "    </tr>\n",
       "    <tr>\n",
       "      <td>undisclosed</td>\n",
       "      <td>395</td>\n",
       "      <td>268</td>\n",
       "      <td>255</td>\n",
       "      <td>243</td>\n",
       "      <td>362</td>\n",
       "      <td>354</td>\n",
       "      <td>258</td>\n",
       "      <td>384</td>\n",
       "      <td>312</td>\n",
       "      <td>272</td>\n",
       "      <td>...</td>\n",
       "      <td>634</td>\n",
       "      <td>759</td>\n",
       "      <td>576</td>\n",
       "      <td>710</td>\n",
       "      <td>454</td>\n",
       "      <td>647</td>\n",
       "      <td>830</td>\n",
       "      <td>304</td>\n",
       "      <td>98</td>\n",
       "      <td>4</td>\n",
       "    </tr>\n",
       "    <tr>\n",
       "      <td>venture</td>\n",
       "      <td>1294</td>\n",
       "      <td>1207</td>\n",
       "      <td>1297</td>\n",
       "      <td>1144</td>\n",
       "      <td>1440</td>\n",
       "      <td>1434</td>\n",
       "      <td>1094</td>\n",
       "      <td>869</td>\n",
       "      <td>1007</td>\n",
       "      <td>941</td>\n",
       "      <td>...</td>\n",
       "      <td>1433</td>\n",
       "      <td>1340</td>\n",
       "      <td>1584</td>\n",
       "      <td>1856</td>\n",
       "      <td>2065</td>\n",
       "      <td>2147</td>\n",
       "      <td>2263</td>\n",
       "      <td>3019</td>\n",
       "      <td>2905</td>\n",
       "      <td>192</td>\n",
       "    </tr>\n",
       "  </tbody>\n",
       "</table>\n",
       "<p>5 rows × 32 columns</p>\n",
       "</div>"
      ],
      "text/plain": [
       "                            <lambda>                                          \\\n",
       "                   raised_amount_usd                                           \n",
       "funded_year                   2007.0                          2008.0           \n",
       "funded_quarter               2007-Q1 2007-Q2 2007-Q3 2007-Q4 2008-Q1 2008-Q2   \n",
       "funding_round_type                                                             \n",
       "angel                             97      67      50      71     122      69   \n",
       "private_equity                    16      14      22      10      13      13   \n",
       "seed                             110      88      92     111     219     143   \n",
       "undisclosed                      395     268     255     243     362     354   \n",
       "venture                         1294    1207    1297    1144    1440    1434   \n",
       "\n",
       "                                                    ...                  \\\n",
       "                                                    ...                   \n",
       "funded_year                         2009.0          ...  2012.0           \n",
       "funded_quarter     2008-Q3 2008-Q4 2009-Q1 2009-Q2  ... 2012-Q3 2012-Q4   \n",
       "funding_round_type                                  ...                   \n",
       "angel                   74      79      64      84  ...     201     162   \n",
       "private_equity          26      18      20      17  ...      93      64   \n",
       "seed                   145     107     254     225  ...    1551    1610   \n",
       "undisclosed            258     384     312     272  ...     634     759   \n",
       "venture               1094     869    1007     941  ...    1433    1340   \n",
       "\n",
       "                                                                            \\\n",
       "                                                                             \n",
       "funded_year         2013.0                          2014.0                   \n",
       "funded_quarter     2013-Q1 2013-Q2 2013-Q3 2013-Q4 2014-Q1 2014-Q2 2014-Q3   \n",
       "funding_round_type                                                           \n",
       "angel                  229     161     226     141     211     123      77   \n",
       "private_equity         146     244     187     132     101     131      68   \n",
       "seed                  2025    1870    2368    2097    1922    1686    1763   \n",
       "undisclosed            576     710     454     647     830     304      98   \n",
       "venture               1584    1856    2065    2147    2263    3019    2905   \n",
       "\n",
       "                            \n",
       "                            \n",
       "funded_year                 \n",
       "funded_quarter     2014-Q4  \n",
       "funding_round_type          \n",
       "angel                    0  \n",
       "private_equity           5  \n",
       "seed                   101  \n",
       "undisclosed              4  \n",
       "venture                192  \n",
       "\n",
       "[5 rows x 32 columns]"
      ]
     },
     "execution_count": 102,
     "metadata": {},
     "output_type": "execute_result"
    }
   ],
   "source": [
    "table1"
   ]
  },
  {
   "cell_type": "code",
   "execution_count": 85,
   "metadata": {},
   "outputs": [],
   "source": [
    "writer = pd.ExcelWriter('report.xlsx')\n",
    "table1.to_excel(writer, 'Sheet1')\n",
    "df1.to_excel(writer, 'Sheet2')\n",
    "writer.save()"
   ]
  },
  {
   "cell_type": "code",
   "execution_count": 105,
   "metadata": {},
   "outputs": [],
   "source": [
    "wb = openpyxl.load_workbook('Example_wb.xlsx')"
   ]
  },
  {
   "cell_type": "code",
   "execution_count": 106,
   "metadata": {},
   "outputs": [
    {
     "name": "stderr",
     "output_type": "stream",
     "text": [
      "C:\\Users\\abhijit\\Anaconda2\\envs\\newpy37\\lib\\site-packages\\ipykernel_launcher.py:1: DeprecationWarning: Call to deprecated function get_sheet_names (Use wb.sheetnames).\n",
      "  \"\"\"Entry point for launching an IPython kernel.\n"
     ]
    },
    {
     "data": {
      "text/plain": [
       "['Sheet1']"
      ]
     },
     "execution_count": 106,
     "metadata": {},
     "output_type": "execute_result"
    }
   ],
   "source": [
    "wb.get_sheet_names()"
   ]
  },
  {
   "cell_type": "code",
   "execution_count": 107,
   "metadata": {},
   "outputs": [
    {
     "name": "stderr",
     "output_type": "stream",
     "text": [
      "C:\\Users\\abhijit\\Anaconda2\\envs\\newpy37\\lib\\site-packages\\ipykernel_launcher.py:1: DeprecationWarning: Call to deprecated function get_sheet_by_name (Use wb[sheetname]).\n",
      "  \"\"\"Entry point for launching an IPython kernel.\n"
     ]
    }
   ],
   "source": [
    "sheet = wb.get_sheet_by_name('Sheet1')"
   ]
  },
  {
   "cell_type": "code",
   "execution_count": 108,
   "metadata": {},
   "outputs": [
    {
     "data": {
      "text/plain": [
       "openpyxl.worksheet.worksheet.Worksheet"
      ]
     },
     "execution_count": 108,
     "metadata": {},
     "output_type": "execute_result"
    }
   ],
   "source": [
    "type(sheet) "
   ]
  },
  {
   "cell_type": "code",
   "execution_count": 109,
   "metadata": {},
   "outputs": [
    {
     "data": {
      "text/plain": [
       "'Sheet1'"
      ]
     },
     "execution_count": 109,
     "metadata": {},
     "output_type": "execute_result"
    }
   ],
   "source": [
    "sheet.title"
   ]
  },
  {
   "cell_type": "code",
   "execution_count": 110,
   "metadata": {},
   "outputs": [
    {
     "data": {
      "text/plain": [
       "<Worksheet \"Sheet1\">"
      ]
     },
     "execution_count": 110,
     "metadata": {},
     "output_type": "execute_result"
    }
   ],
   "source": [
    "wb.active"
   ]
  },
  {
   "cell_type": "code",
   "execution_count": 111,
   "metadata": {},
   "outputs": [
    {
     "data": {
      "text/plain": [
       "<Cell 'Sheet1'.A1>"
      ]
     },
     "execution_count": 111,
     "metadata": {},
     "output_type": "execute_result"
    }
   ],
   "source": [
    "sheet['A1']"
   ]
  },
  {
   "cell_type": "code",
   "execution_count": 113,
   "metadata": {},
   "outputs": [
    {
     "data": {
      "text/plain": [
       "' John'"
      ]
     },
     "execution_count": 113,
     "metadata": {},
     "output_type": "execute_result"
    }
   ],
   "source": [
    "sheet['B2'].value"
   ]
  },
  {
   "cell_type": "code",
   "execution_count": 114,
   "metadata": {},
   "outputs": [
    {
     "data": {
      "text/plain": [
       "<Cell 'Sheet1'.B2>"
      ]
     },
     "execution_count": 114,
     "metadata": {},
     "output_type": "execute_result"
    }
   ],
   "source": [
    "sheet.cell(row=2, column=2)"
   ]
  },
  {
   "cell_type": "code",
   "execution_count": 115,
   "metadata": {},
   "outputs": [
    {
     "data": {
      "text/plain": [
       "' Name'"
      ]
     },
     "execution_count": 115,
     "metadata": {},
     "output_type": "execute_result"
    }
   ],
   "source": [
    "sheet.cell(row=1, column=2).value"
   ]
  },
  {
   "cell_type": "code",
   "execution_count": 116,
   "metadata": {},
   "outputs": [
    {
     "data": {
      "text/plain": [
       "' John'"
      ]
     },
     "execution_count": 116,
     "metadata": {},
     "output_type": "execute_result"
    }
   ],
   "source": [
    "sheet.cell(row=2, column=2).value"
   ]
  },
  {
   "cell_type": "code",
   "execution_count": 99,
   "metadata": {},
   "outputs": [
    {
     "data": {
      "text/plain": [
       "4"
      ]
     },
     "execution_count": 99,
     "metadata": {},
     "output_type": "execute_result"
    }
   ],
   "source": [
    "sheet.max_row"
   ]
  },
  {
   "cell_type": "code",
   "execution_count": 100,
   "metadata": {},
   "outputs": [
    {
     "data": {
      "text/plain": [
       "3"
      ]
     },
     "execution_count": 100,
     "metadata": {},
     "output_type": "execute_result"
    }
   ],
   "source": [
    "sheet.max_column"
   ]
  },
  {
   "cell_type": "markdown",
   "metadata": {},
   "source": [
    "# PROJECT\n",
    "Say you have a spreadsheet of data from the 2010 US Census and you have the boring task of going through its thousands of rows to count both the total population and the number of census tracts for each county. (A census tract is simply a geographic area defined for the purposes of the census.) Each row represents a single census tract.\n",
    "\n",
    "Even though Excel can calculate the sum of multiple selected cells, you’d still have to select the cells for each of the 3,000-plus counties. Even if it takes just a few seconds to calculate a county’s population by hand, this would take hours to do for the whole spreadsheet.\n",
    "\n",
    "In this project, you’ll write a script that can read from the census spreadsheet file and calculate statistics for each county in a matter of seconds.\n",
    "\n",
    "This is what your program does:\n",
    "\n",
    "Reads the data from the Excel spreadsheet.\n",
    "\n",
    "Counts the number of census tracts in each county.\n",
    "\n",
    "Counts the total population of each county.\n",
    "\n",
    "Prints the results.\n",
    "\n",
    "This means your code will need to do the following:\n",
    "\n",
    "Open and read the cells of an Excel document with the openpyxl module.\n",
    "\n",
    "Calculate all the tract and population data and store it in a data structure.\n",
    "\n",
    "Write the data structure to a text file with the .py extension using the pprint module."
   ]
  },
  {
   "cell_type": "code",
   "execution_count": null,
   "metadata": {},
   "outputs": [],
   "source": []
  }
 ],
 "metadata": {
  "kernelspec": {
   "display_name": "Python 3",
   "language": "python",
   "name": "python3"
  },
  "language_info": {
   "codemirror_mode": {
    "name": "ipython",
    "version": 3
   },
   "file_extension": ".py",
   "mimetype": "text/x-python",
   "name": "python",
   "nbconvert_exporter": "python",
   "pygments_lexer": "ipython3",
   "version": "3.7.4"
  }
 },
 "nbformat": 4,
 "nbformat_minor": 2
}
