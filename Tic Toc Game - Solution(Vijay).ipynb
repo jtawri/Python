{
 "cells": [
  {
   "cell_type": "code",
   "execution_count": 7,
   "metadata": {},
   "outputs": [
    {
     "name": "stdout",
     "output_type": "stream",
     "text": [
      "X | O | X\n",
      "X | X | O\n",
      "O | X | O\n",
      "Game Draws\n"
     ]
    }
   ],
   "source": [
    "from IPython.display import clear_output\n",
    "\n",
    "def display_board(board):\n",
    "    clear_output()\n",
    "    print(board[1]+' | '+board[2]+' | '+board[3])\n",
    "    print(board[4]+' | '+board[5]+' | '+board[6])\n",
    "    print(board[7]+' | '+board[8]+' | '+board[9])\n",
    "    \n",
    "def win_check(board):\n",
    "    if (board[1]==board[2]==board[3]=='X' or \n",
    "        board[6]==board[4]==board[5]=='X' or \n",
    "        board[7]==board[8]==board[9]=='X' or \n",
    "        board[1]==board[5]==board[9]=='X' or\n",
    "        board[7]==board[5]==board[3]=='X' or \n",
    "        board[7]==board[1]==board[4]=='X' or\n",
    "        board[2]==board[8]==board[5]=='X' or \n",
    "        board[3]==board[6]==board[9]=='X' or \n",
    "        board[1]==board[2]==board[3]=='O' or \n",
    "        board[6]==board[4]==board[5]=='O' or \n",
    "        board[7]==board[8]==board[9]=='O' or \n",
    "        board[1]==board[5]==board[9]=='O' or\n",
    "        board[7]==board[5]==board[3]=='O' or \n",
    "        board[7]==board[1]==board[4]=='O' or\n",
    "        board[2]==board[8]==board[5]=='O' or \n",
    "        board[3]==board[6]==board[9]=='O'  ):   \n",
    "        \n",
    "        return True\n",
    "    \n",
    "    \n",
    "    \n",
    "board=['@',' ',' ',' ',' ',' ',' ',' ',' ',' ']\n",
    "display_board(board)\n",
    "i=0\n",
    "# Enter Player 1 entruies\n",
    "while True:\n",
    "    player1_letter=input(\"Player 1 Enter letter X \")\n",
    "    player1_box=int(input(\"Input a box number\"))\n",
    "    if player1_letter.upper()=='X':\n",
    "        board[player1_box]='X'\n",
    "        display_board(board)\n",
    "        i+=1\n",
    "        if win_check(board):\n",
    "            print ( \"Player 1 wins\")\n",
    "            break\n",
    "# Game Draw Condition           \n",
    "    if i>8:\n",
    "        print(\"Game Draws\")\n",
    "        break\n",
    "\n",
    "    \n",
    "\n",
    "\n",
    " # Enter Player 2 entruies\n",
    "    player2_letter=input(\"Player 2 Enter letter O \")\n",
    "    player2_box=int(input(\"Input a box number\"))\n",
    "    if player2_letter.upper()=='O':\n",
    "        board[player2_box]='O'\n",
    "        display_board(board)\n",
    "        i+=1\n",
    "        if win_check(board):\n",
    "            print ( \"Player 2 wins\")\n",
    "            break\n",
    "    \n",
    "\n",
    "    \n",
    "   \n"
   ]
  }
 ],
 "metadata": {
  "kernelspec": {
   "display_name": "Python 3",
   "language": "python",
   "name": "python3"
  },
  "language_info": {
   "codemirror_mode": {
    "name": "ipython",
    "version": 3
   },
   "file_extension": ".py",
   "mimetype": "text/x-python",
   "name": "python",
   "nbconvert_exporter": "python",
   "pygments_lexer": "ipython3",
   "version": "3.7.3"
  }
 },
 "nbformat": 4,
 "nbformat_minor": 2
}
